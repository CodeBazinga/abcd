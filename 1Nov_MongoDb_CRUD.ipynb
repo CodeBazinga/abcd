{
 "cells": [
  {
   "cell_type": "code",
   "execution_count": 1,
   "id": "8c27c475",
   "metadata": {},
   "outputs": [],
   "source": [
    "# !pip install pymongo\n",
    "\n",
    "import pymongo"
   ]
  },
  {
   "cell_type": "code",
   "execution_count": 3,
   "id": "d1f2e519",
   "metadata": {},
   "outputs": [],
   "source": [
    "from pymongo import MongoClient"
   ]
  },
  {
   "cell_type": "code",
   "execution_count": 4,
   "id": "5622d38d",
   "metadata": {},
   "outputs": [],
   "source": [
    "db = MongoClient('mongodb://localhost:27017')"
   ]
  },
  {
   "cell_type": "markdown",
   "id": "c541d1b9",
   "metadata": {},
   "source": [
    "#### List all the database"
   ]
  },
  {
   "cell_type": "code",
   "execution_count": 5,
   "id": "69cac142",
   "metadata": {},
   "outputs": [
    {
     "name": "stdout",
     "output_type": "stream",
     "text": [
      "['admin', 'config', 'demo', 'local', 'mdb1']\n"
     ]
    }
   ],
   "source": [
    "print(db.list_database_names())"
   ]
  },
  {
   "cell_type": "code",
   "execution_count": 7,
   "id": "8370ded2",
   "metadata": {},
   "outputs": [],
   "source": [
    "mydb = db[\"demo\"]    # database \n",
    "col = mydb[\"test1\"]  # collection inside database"
   ]
  },
  {
   "cell_type": "markdown",
   "id": "9a1f5e97",
   "metadata": {},
   "source": [
    "#### Display all records"
   ]
  },
  {
   "cell_type": "code",
   "execution_count": 8,
   "id": "736b99eb",
   "metadata": {},
   "outputs": [
    {
     "name": "stdout",
     "output_type": "stream",
     "text": [
      "{'_id': ObjectId('6360dad9264a20f883771e33'), 'Name': 'Ankit', 'Age': 22, 'City': 'Pune', 'Score': 79, 'Dept': 'IT'}\n",
      "{'_id': ObjectId('6360dad9264a20f883771e34'), 'Name': 'Vipul', 'Age': 25, 'City': 'Noida', 'Score': 83, 'Dept': 'HR'}\n",
      "{'_id': ObjectId('6360dad9264a20f883771e35'), 'Name': 'Amit', 'Age': 24, 'City': 'Delhi', 'Score': 86, 'Dept': 'IT'}\n",
      "{'_id': ObjectId('6360dad9264a20f883771e36'), 'Name': 'Nikhil', 'Age': 25, 'City': 'Delhi', 'Score': 65, 'Dept': 'OP'}\n",
      "{'_id': ObjectId('6360dad9264a20f883771e37'), 'Name': 'Mudit', 'Age': 23, 'City': 'Mumbai', 'Score': 80, 'Dept': 'LOG'}\n",
      "{'_id': ObjectId('6360dad9264a20f883771e38'), 'Name': 'Arpita', 'Age': 24, 'City': 'Pune', 'Score': 91, 'Dept': 'INV'}\n",
      "{'_id': ObjectId('6360dad9264a20f883771e39'), 'Name': 'Akanksha', 'Age': 25, 'City': 'Noida', 'Score': 70, 'Dept': 'LOG'}\n",
      "{'_id': ObjectId('6360dad9264a20f883771e3a'), 'Name': 'Anuj', 'Age': 22, 'City': 'Mumbai', 'Score': 68, 'Dept': 'IT'}\n",
      "{'_id': ObjectId('6360dad9264a20f883771e3b'), 'Name': 'Shreya', 'Age': 24, 'City': 'Bangalore', 'Score': 94, 'Dept': 'IT'}\n",
      "{'_id': ObjectId('6360dad9264a20f883771e3c'), 'Name': 'Rishabh', 'Age': 25, 'City': 'Bangalore', 'Score': 88, 'Dept': 'INV'}\n"
     ]
    }
   ],
   "source": [
    "r = col.find()\n",
    "for i in r:\n",
    "    print(i)"
   ]
  },
  {
   "cell_type": "markdown",
   "id": "3d2bf4e4",
   "metadata": {},
   "source": [
    "### CRUD"
   ]
  },
  {
   "cell_type": "markdown",
   "id": "ede0e00a",
   "metadata": {},
   "source": [
    "#### Insert single record"
   ]
  },
  {
   "cell_type": "code",
   "execution_count": 9,
   "id": "395f3527",
   "metadata": {},
   "outputs": [
    {
     "name": "stdout",
     "output_type": "stream",
     "text": [
      "6360df13c570d4ceb9bd88e3\n"
     ]
    }
   ],
   "source": [
    "rec1 = {'Name': 'Anshul', 'Age': 23, 'City': 'Noida', 'Score': 92, 'Dept': 'IT'}\n",
    "x = col.insert_one(rec1)\n",
    "\n",
    "print(x.inserted_id)"
   ]
  },
  {
   "cell_type": "code",
   "execution_count": 10,
   "id": "b8a9aaa0",
   "metadata": {},
   "outputs": [
    {
     "name": "stdout",
     "output_type": "stream",
     "text": [
      "{'_id': ObjectId('6360dad9264a20f883771e33'), 'Name': 'Ankit', 'Age': 22, 'City': 'Pune', 'Score': 79, 'Dept': 'IT'}\n",
      "{'_id': ObjectId('6360dad9264a20f883771e34'), 'Name': 'Vipul', 'Age': 25, 'City': 'Noida', 'Score': 83, 'Dept': 'HR'}\n",
      "{'_id': ObjectId('6360dad9264a20f883771e35'), 'Name': 'Amit', 'Age': 24, 'City': 'Delhi', 'Score': 86, 'Dept': 'IT'}\n",
      "{'_id': ObjectId('6360dad9264a20f883771e36'), 'Name': 'Nikhil', 'Age': 25, 'City': 'Delhi', 'Score': 65, 'Dept': 'OP'}\n",
      "{'_id': ObjectId('6360dad9264a20f883771e37'), 'Name': 'Mudit', 'Age': 23, 'City': 'Mumbai', 'Score': 80, 'Dept': 'LOG'}\n",
      "{'_id': ObjectId('6360dad9264a20f883771e38'), 'Name': 'Arpita', 'Age': 24, 'City': 'Pune', 'Score': 91, 'Dept': 'INV'}\n",
      "{'_id': ObjectId('6360dad9264a20f883771e39'), 'Name': 'Akanksha', 'Age': 25, 'City': 'Noida', 'Score': 70, 'Dept': 'LOG'}\n",
      "{'_id': ObjectId('6360dad9264a20f883771e3a'), 'Name': 'Anuj', 'Age': 22, 'City': 'Mumbai', 'Score': 68, 'Dept': 'IT'}\n",
      "{'_id': ObjectId('6360dad9264a20f883771e3b'), 'Name': 'Shreya', 'Age': 24, 'City': 'Bangalore', 'Score': 94, 'Dept': 'IT'}\n",
      "{'_id': ObjectId('6360dad9264a20f883771e3c'), 'Name': 'Rishabh', 'Age': 25, 'City': 'Bangalore', 'Score': 88, 'Dept': 'INV'}\n",
      "{'_id': ObjectId('6360df13c570d4ceb9bd88e3'), 'Name': 'Anshul', 'Age': 23, 'City': 'Noida', 'Score': 92, 'Dept': 'IT'}\n"
     ]
    }
   ],
   "source": [
    "for i in col.find():\n",
    "    print(i)"
   ]
  },
  {
   "cell_type": "markdown",
   "id": "16b9ff9d",
   "metadata": {},
   "source": [
    "#### Insert multiple Records"
   ]
  },
  {
   "cell_type": "code",
   "execution_count": 12,
   "id": "9321e817",
   "metadata": {},
   "outputs": [
    {
     "name": "stdout",
     "output_type": "stream",
     "text": [
      "[ObjectId('6360e01dc570d4ceb9bd88e4'), ObjectId('6360e01dc570d4ceb9bd88e5'), ObjectId('6360e01dc570d4ceb9bd88e6')]\n"
     ]
    }
   ],
   "source": [
    "records = [{'Name': 'Jatin', 'Age': 22, 'City': 'Delhi', 'Score': 75, 'Dept': 'INV'},\n",
    "          {'Name': 'Kritika', 'Age': 24, 'City': 'Pune', 'Score': 87, 'Dept': 'HR'},\n",
    "          {'Name': 'Akash', 'Age': 26, 'City': 'Mumbai', 'Score': 56, 'Dept': 'LOG'}]\n",
    "\n",
    "x = col.insert_many(records)\n",
    "\n",
    "print(x.inserted_ids)"
   ]
  },
  {
   "cell_type": "code",
   "execution_count": 13,
   "id": "92109b3a",
   "metadata": {},
   "outputs": [
    {
     "name": "stdout",
     "output_type": "stream",
     "text": [
      "{'_id': ObjectId('6360dad9264a20f883771e33'), 'Name': 'Ankit', 'Age': 22, 'City': 'Pune', 'Score': 79, 'Dept': 'IT'}\n",
      "{'_id': ObjectId('6360dad9264a20f883771e34'), 'Name': 'Vipul', 'Age': 25, 'City': 'Noida', 'Score': 83, 'Dept': 'HR'}\n",
      "{'_id': ObjectId('6360dad9264a20f883771e35'), 'Name': 'Amit', 'Age': 24, 'City': 'Delhi', 'Score': 86, 'Dept': 'IT'}\n",
      "{'_id': ObjectId('6360dad9264a20f883771e36'), 'Name': 'Nikhil', 'Age': 25, 'City': 'Delhi', 'Score': 65, 'Dept': 'OP'}\n",
      "{'_id': ObjectId('6360dad9264a20f883771e37'), 'Name': 'Mudit', 'Age': 23, 'City': 'Mumbai', 'Score': 80, 'Dept': 'LOG'}\n",
      "{'_id': ObjectId('6360dad9264a20f883771e38'), 'Name': 'Arpita', 'Age': 24, 'City': 'Pune', 'Score': 91, 'Dept': 'INV'}\n",
      "{'_id': ObjectId('6360dad9264a20f883771e39'), 'Name': 'Akanksha', 'Age': 25, 'City': 'Noida', 'Score': 70, 'Dept': 'LOG'}\n",
      "{'_id': ObjectId('6360dad9264a20f883771e3a'), 'Name': 'Anuj', 'Age': 22, 'City': 'Mumbai', 'Score': 68, 'Dept': 'IT'}\n",
      "{'_id': ObjectId('6360dad9264a20f883771e3b'), 'Name': 'Shreya', 'Age': 24, 'City': 'Bangalore', 'Score': 94, 'Dept': 'IT'}\n",
      "{'_id': ObjectId('6360dad9264a20f883771e3c'), 'Name': 'Rishabh', 'Age': 25, 'City': 'Bangalore', 'Score': 88, 'Dept': 'INV'}\n",
      "{'_id': ObjectId('6360df13c570d4ceb9bd88e3'), 'Name': 'Anshul', 'Age': 23, 'City': 'Noida', 'Score': 92, 'Dept': 'IT'}\n",
      "{'_id': ObjectId('6360e01dc570d4ceb9bd88e4'), 'Name': 'Jatin', 'Age': 22, 'City': 'Delhi', 'Score': 75, 'Dept': 'INV'}\n",
      "{'_id': ObjectId('6360e01dc570d4ceb9bd88e5'), 'Name': 'Kritika', 'Age': 24, 'City': 'Pune', 'Score': 87, 'Dept': 'HR'}\n",
      "{'_id': ObjectId('6360e01dc570d4ceb9bd88e6'), 'Name': 'Akash', 'Age': 26, 'City': 'Mumbai', 'Score': 56, 'Dept': 'LOG'}\n"
     ]
    }
   ],
   "source": [
    "for i in col.find():\n",
    "    print(i)"
   ]
  },
  {
   "cell_type": "markdown",
   "id": "7a267c7c",
   "metadata": {},
   "source": [
    "#### Select Operations"
   ]
  },
  {
   "cell_type": "code",
   "execution_count": 15,
   "id": "d4479462",
   "metadata": {},
   "outputs": [
    {
     "name": "stdout",
     "output_type": "stream",
     "text": [
      "{'_id': ObjectId('6360dad9264a20f883771e33'), 'Name': 'Ankit', 'Age': 22, 'City': 'Pune', 'Score': 79, 'Dept': 'IT'}\n",
      "{'_id': ObjectId('6360dad9264a20f883771e35'), 'Name': 'Amit', 'Age': 24, 'City': 'Delhi', 'Score': 86, 'Dept': 'IT'}\n",
      "{'_id': ObjectId('6360dad9264a20f883771e3a'), 'Name': 'Anuj', 'Age': 22, 'City': 'Mumbai', 'Score': 68, 'Dept': 'IT'}\n",
      "{'_id': ObjectId('6360dad9264a20f883771e3b'), 'Name': 'Shreya', 'Age': 24, 'City': 'Bangalore', 'Score': 94, 'Dept': 'IT'}\n",
      "{'_id': ObjectId('6360df13c570d4ceb9bd88e3'), 'Name': 'Anshul', 'Age': 23, 'City': 'Noida', 'Score': 92, 'Dept': 'IT'}\n"
     ]
    }
   ],
   "source": [
    "# select * from test1 where DEPT='IT'\n",
    "\n",
    "q1 = {'Dept':'IT'}\n",
    "for i in col.find(q1):\n",
    "    print(i)"
   ]
  },
  {
   "cell_type": "markdown",
   "id": "cb18122a",
   "metadata": {},
   "source": [
    "#### Less than Grt than\n",
    "<pre>\n",
    "Less than - $lt\n",
    "Less than Equal to - $lte\n",
    "Greater than - $gt\n",
    "Greater than Equal to - $gte\n",
    "</pre>"
   ]
  },
  {
   "cell_type": "code",
   "execution_count": 17,
   "id": "f944ba04",
   "metadata": {},
   "outputs": [
    {
     "name": "stdout",
     "output_type": "stream",
     "text": [
      "{'_id': ObjectId('6360dad9264a20f883771e34'), 'Name': 'Vipul', 'Age': 25, 'City': 'Noida', 'Score': 83, 'Dept': 'HR'}\n",
      "{'_id': ObjectId('6360dad9264a20f883771e35'), 'Name': 'Amit', 'Age': 24, 'City': 'Delhi', 'Score': 86, 'Dept': 'IT'}\n",
      "{'_id': ObjectId('6360dad9264a20f883771e36'), 'Name': 'Nikhil', 'Age': 25, 'City': 'Delhi', 'Score': 65, 'Dept': 'OP'}\n",
      "{'_id': ObjectId('6360dad9264a20f883771e38'), 'Name': 'Arpita', 'Age': 24, 'City': 'Pune', 'Score': 91, 'Dept': 'INV'}\n",
      "{'_id': ObjectId('6360dad9264a20f883771e39'), 'Name': 'Akanksha', 'Age': 25, 'City': 'Noida', 'Score': 70, 'Dept': 'LOG'}\n",
      "{'_id': ObjectId('6360dad9264a20f883771e3b'), 'Name': 'Shreya', 'Age': 24, 'City': 'Bangalore', 'Score': 94, 'Dept': 'IT'}\n",
      "{'_id': ObjectId('6360dad9264a20f883771e3c'), 'Name': 'Rishabh', 'Age': 25, 'City': 'Bangalore', 'Score': 88, 'Dept': 'INV'}\n",
      "{'_id': ObjectId('6360e01dc570d4ceb9bd88e5'), 'Name': 'Kritika', 'Age': 24, 'City': 'Pune', 'Score': 87, 'Dept': 'HR'}\n",
      "{'_id': ObjectId('6360e01dc570d4ceb9bd88e6'), 'Name': 'Akash', 'Age': 26, 'City': 'Mumbai', 'Score': 56, 'Dept': 'LOG'}\n"
     ]
    }
   ],
   "source": [
    "q2 = {'Age':{'$gte':24}}   # greater than\n",
    "for i in col.find(q2):\n",
    "    print(i)"
   ]
  },
  {
   "cell_type": "markdown",
   "id": "d02a5d9f",
   "metadata": {},
   "source": [
    "#### Sorting "
   ]
  },
  {
   "cell_type": "markdown",
   "id": "8e26baee",
   "metadata": {},
   "source": [
    "#### 1) Ascending Order"
   ]
  },
  {
   "cell_type": "code",
   "execution_count": 19,
   "id": "fe81ca65",
   "metadata": {},
   "outputs": [
    {
     "name": "stdout",
     "output_type": "stream",
     "text": [
      "{'_id': ObjectId('6360dad9264a20f883771e35'), 'Name': 'Amit', 'Age': 24, 'City': 'Delhi', 'Score': 86, 'Dept': 'IT'}\n",
      "{'_id': ObjectId('6360e01dc570d4ceb9bd88e4'), 'Name': 'Jatin', 'Age': 22, 'City': 'Delhi', 'Score': 75, 'Dept': 'INV'}\n",
      "{'_id': ObjectId('6360dad9264a20f883771e36'), 'Name': 'Nikhil', 'Age': 25, 'City': 'Delhi', 'Score': 65, 'Dept': 'OP'}\n"
     ]
    }
   ],
   "source": [
    "q3 = {'City':'Delhi'}\n",
    "for i in col.find(q3).sort('Name'):\n",
    "    print(i)"
   ]
  },
  {
   "cell_type": "markdown",
   "id": "47661f7d",
   "metadata": {},
   "source": [
    "#### 2) Descending Order"
   ]
  },
  {
   "cell_type": "code",
   "execution_count": 20,
   "id": "2af1c27d",
   "metadata": {},
   "outputs": [
    {
     "name": "stdout",
     "output_type": "stream",
     "text": [
      "{'_id': ObjectId('6360dad9264a20f883771e37'), 'Name': 'Mudit', 'Age': 23, 'City': 'Mumbai', 'Score': 80, 'Dept': 'LOG'}\n",
      "{'_id': ObjectId('6360e01dc570d4ceb9bd88e4'), 'Name': 'Jatin', 'Age': 22, 'City': 'Delhi', 'Score': 75, 'Dept': 'INV'}\n",
      "{'_id': ObjectId('6360dad9264a20f883771e3a'), 'Name': 'Anuj', 'Age': 22, 'City': 'Mumbai', 'Score': 68, 'Dept': 'IT'}\n",
      "{'_id': ObjectId('6360df13c570d4ceb9bd88e3'), 'Name': 'Anshul', 'Age': 23, 'City': 'Noida', 'Score': 92, 'Dept': 'IT'}\n",
      "{'_id': ObjectId('6360dad9264a20f883771e33'), 'Name': 'Ankit', 'Age': 22, 'City': 'Pune', 'Score': 79, 'Dept': 'IT'}\n"
     ]
    }
   ],
   "source": [
    "q4 = {'Age':{'$lt':24}}\n",
    "for i in col.find(q4).sort('Name',-1):  # name in descending\n",
    "    print(i)"
   ]
  },
  {
   "cell_type": "markdown",
   "id": "35e41a8a",
   "metadata": {},
   "source": [
    "#### AND and OR"
   ]
  },
  {
   "cell_type": "code",
   "execution_count": 21,
   "id": "b80141ad",
   "metadata": {},
   "outputs": [
    {
     "name": "stdout",
     "output_type": "stream",
     "text": [
      "{'_id': ObjectId('6360dad9264a20f883771e34'), 'Name': 'Vipul', 'Age': 25, 'City': 'Noida', 'Score': 83, 'Dept': 'HR'}\n",
      "{'_id': ObjectId('6360dad9264a20f883771e35'), 'Name': 'Amit', 'Age': 24, 'City': 'Delhi', 'Score': 86, 'Dept': 'IT'}\n",
      "{'_id': ObjectId('6360dad9264a20f883771e36'), 'Name': 'Nikhil', 'Age': 25, 'City': 'Delhi', 'Score': 65, 'Dept': 'OP'}\n",
      "{'_id': ObjectId('6360dad9264a20f883771e38'), 'Name': 'Arpita', 'Age': 24, 'City': 'Pune', 'Score': 91, 'Dept': 'INV'}\n",
      "{'_id': ObjectId('6360dad9264a20f883771e3b'), 'Name': 'Shreya', 'Age': 24, 'City': 'Bangalore', 'Score': 94, 'Dept': 'IT'}\n",
      "{'_id': ObjectId('6360dad9264a20f883771e3c'), 'Name': 'Rishabh', 'Age': 25, 'City': 'Bangalore', 'Score': 88, 'Dept': 'INV'}\n",
      "{'_id': ObjectId('6360df13c570d4ceb9bd88e3'), 'Name': 'Anshul', 'Age': 23, 'City': 'Noida', 'Score': 92, 'Dept': 'IT'}\n",
      "{'_id': ObjectId('6360e01dc570d4ceb9bd88e4'), 'Name': 'Jatin', 'Age': 22, 'City': 'Delhi', 'Score': 75, 'Dept': 'INV'}\n",
      "{'_id': ObjectId('6360e01dc570d4ceb9bd88e5'), 'Name': 'Kritika', 'Age': 24, 'City': 'Pune', 'Score': 87, 'Dept': 'HR'}\n"
     ]
    }
   ],
   "source": [
    "q5 = {'$or' : [ {\"City\" : \"Delhi\"}, {\"Score\" : {\"$gt\": 80}} ]}\n",
    "for i in col.find(q5):\n",
    "    print(i)"
   ]
  },
  {
   "cell_type": "code",
   "execution_count": 22,
   "id": "d539e381",
   "metadata": {},
   "outputs": [
    {
     "name": "stdout",
     "output_type": "stream",
     "text": [
      "{'_id': ObjectId('6360dad9264a20f883771e35'), 'Name': 'Amit', 'Age': 24, 'City': 'Delhi', 'Score': 86, 'Dept': 'IT'}\n"
     ]
    }
   ],
   "source": [
    "q6 = {'$and' : [ {\"City\" : \"Delhi\"}, {\"Score\" : {\"$gt\": 80}} ]}\n",
    "for i in col.find(q6):\n",
    "    print(i)"
   ]
  },
  {
   "cell_type": "markdown",
   "id": "be510061",
   "metadata": {},
   "source": [
    "#### IN"
   ]
  },
  {
   "cell_type": "code",
   "execution_count": 24,
   "id": "680a13a3",
   "metadata": {},
   "outputs": [
    {
     "name": "stdout",
     "output_type": "stream",
     "text": [
      "{'_id': ObjectId('6360dad9264a20f883771e34'), 'Name': 'Vipul', 'Age': 25, 'City': 'Noida', 'Score': 83, 'Dept': 'HR'}\n",
      "{'_id': ObjectId('6360dad9264a20f883771e39'), 'Name': 'Akanksha', 'Age': 25, 'City': 'Noida', 'Score': 70, 'Dept': 'LOG'}\n",
      "{'_id': ObjectId('6360dad9264a20f883771e3b'), 'Name': 'Shreya', 'Age': 24, 'City': 'Bangalore', 'Score': 94, 'Dept': 'IT'}\n",
      "{'_id': ObjectId('6360dad9264a20f883771e3c'), 'Name': 'Rishabh', 'Age': 25, 'City': 'Bangalore', 'Score': 88, 'Dept': 'INV'}\n",
      "{'_id': ObjectId('6360df13c570d4ceb9bd88e3'), 'Name': 'Anshul', 'Age': 23, 'City': 'Noida', 'Score': 92, 'Dept': 'IT'}\n"
     ]
    }
   ],
   "source": [
    "q7 = {'City' : {\"$in\" : [\"Bangalore\",'Noida']}}\n",
    "for i in col.find(q7):\n",
    "    print(i)"
   ]
  },
  {
   "cell_type": "markdown",
   "id": "0179914b",
   "metadata": {},
   "source": [
    "#### Limit"
   ]
  },
  {
   "cell_type": "code",
   "execution_count": 27,
   "id": "82e36ed4",
   "metadata": {},
   "outputs": [
    {
     "name": "stdout",
     "output_type": "stream",
     "text": [
      "{'_id': ObjectId('6360dad9264a20f883771e3b'), 'Name': 'Shreya', 'Age': 24, 'City': 'Bangalore', 'Score': 94, 'Dept': 'IT'}\n",
      "{'_id': ObjectId('6360df13c570d4ceb9bd88e3'), 'Name': 'Anshul', 'Age': 23, 'City': 'Noida', 'Score': 92, 'Dept': 'IT'}\n",
      "{'_id': ObjectId('6360dad9264a20f883771e38'), 'Name': 'Arpita', 'Age': 24, 'City': 'Pune', 'Score': 91, 'Dept': 'INV'}\n",
      "{'_id': ObjectId('6360dad9264a20f883771e3c'), 'Name': 'Rishabh', 'Age': 25, 'City': 'Bangalore', 'Score': 88, 'Dept': 'INV'}\n",
      "{'_id': ObjectId('6360e01dc570d4ceb9bd88e5'), 'Name': 'Kritika', 'Age': 24, 'City': 'Pune', 'Score': 87, 'Dept': 'HR'}\n"
     ]
    }
   ],
   "source": [
    "q8 = {'Score':{'$gt':80}}\n",
    "for i in col.find(q8).sort('Score',-1).limit(5):  # top 5 scores in desc order\n",
    "    print(i)"
   ]
  },
  {
   "cell_type": "code",
   "execution_count": 32,
   "id": "43e43e06",
   "metadata": {},
   "outputs": [
    {
     "name": "stdout",
     "output_type": "stream",
     "text": [
      "{'_id': ObjectId('6360dad9264a20f883771e3b'), 'Name': 'Shreya', 'Score': 94}\n",
      "{'_id': ObjectId('6360df13c570d4ceb9bd88e3'), 'Name': 'Anshul', 'Score': 92}\n",
      "{'_id': ObjectId('6360dad9264a20f883771e38'), 'Name': 'Arpita', 'Score': 91}\n"
     ]
    }
   ],
   "source": [
    "q8 = {'Score':{'$gt':80}}\n",
    "for i in col.find(q8,{'Name','Score'}).sort('Score',-1).limit(3):  # top 5 scores in desc order\n",
    "    print(i)"
   ]
  },
  {
   "cell_type": "code",
   "execution_count": 33,
   "id": "7b3faa07",
   "metadata": {},
   "outputs": [],
   "source": [
    "import pandas as pd"
   ]
  },
  {
   "cell_type": "code",
   "execution_count": 37,
   "id": "f76e7fed",
   "metadata": {},
   "outputs": [
    {
     "name": "stdout",
     "output_type": "stream",
     "text": [
      "<class 'list'>\n"
     ]
    }
   ],
   "source": [
    "res = list(col.find())\n",
    "print(type(res))"
   ]
  },
  {
   "cell_type": "code",
   "execution_count": 38,
   "id": "16e4defa",
   "metadata": {},
   "outputs": [
    {
     "name": "stdout",
     "output_type": "stream",
     "text": [
      "[{'_id': ObjectId('6360dad9264a20f883771e33'), 'Name': 'Ankit', 'Age': 22, 'City': 'Pune', 'Score': 79, 'Dept': 'IT'}, {'_id': ObjectId('6360dad9264a20f883771e34'), 'Name': 'Vipul', 'Age': 25, 'City': 'Noida', 'Score': 83, 'Dept': 'HR'}]\n"
     ]
    }
   ],
   "source": [
    "print(res[:2])"
   ]
  },
  {
   "cell_type": "code",
   "execution_count": 42,
   "id": "7df036b9",
   "metadata": {},
   "outputs": [
    {
     "data": {
      "text/html": [
       "<div>\n",
       "<style scoped>\n",
       "    .dataframe tbody tr th:only-of-type {\n",
       "        vertical-align: middle;\n",
       "    }\n",
       "\n",
       "    .dataframe tbody tr th {\n",
       "        vertical-align: top;\n",
       "    }\n",
       "\n",
       "    .dataframe thead th {\n",
       "        text-align: right;\n",
       "    }\n",
       "</style>\n",
       "<table border=\"1\" class=\"dataframe\">\n",
       "  <thead>\n",
       "    <tr style=\"text-align: right;\">\n",
       "      <th></th>\n",
       "      <th>_id</th>\n",
       "      <th>Name</th>\n",
       "      <th>Age</th>\n",
       "      <th>City</th>\n",
       "      <th>Score</th>\n",
       "      <th>Dept</th>\n",
       "    </tr>\n",
       "  </thead>\n",
       "  <tbody>\n",
       "    <tr>\n",
       "      <th>0</th>\n",
       "      <td>6360dad9264a20f883771e33</td>\n",
       "      <td>Ankit</td>\n",
       "      <td>22</td>\n",
       "      <td>Pune</td>\n",
       "      <td>79</td>\n",
       "      <td>IT</td>\n",
       "    </tr>\n",
       "    <tr>\n",
       "      <th>1</th>\n",
       "      <td>6360dad9264a20f883771e34</td>\n",
       "      <td>Vipul</td>\n",
       "      <td>25</td>\n",
       "      <td>Noida</td>\n",
       "      <td>83</td>\n",
       "      <td>HR</td>\n",
       "    </tr>\n",
       "    <tr>\n",
       "      <th>2</th>\n",
       "      <td>6360dad9264a20f883771e35</td>\n",
       "      <td>Amit</td>\n",
       "      <td>24</td>\n",
       "      <td>Delhi</td>\n",
       "      <td>86</td>\n",
       "      <td>IT</td>\n",
       "    </tr>\n",
       "    <tr>\n",
       "      <th>3</th>\n",
       "      <td>6360dad9264a20f883771e36</td>\n",
       "      <td>Nikhil</td>\n",
       "      <td>25</td>\n",
       "      <td>Delhi</td>\n",
       "      <td>65</td>\n",
       "      <td>OP</td>\n",
       "    </tr>\n",
       "    <tr>\n",
       "      <th>4</th>\n",
       "      <td>6360dad9264a20f883771e37</td>\n",
       "      <td>Mudit</td>\n",
       "      <td>23</td>\n",
       "      <td>Mumbai</td>\n",
       "      <td>80</td>\n",
       "      <td>LOG</td>\n",
       "    </tr>\n",
       "  </tbody>\n",
       "</table>\n",
       "</div>"
      ],
      "text/plain": [
       "                        _id    Name  Age    City  Score Dept\n",
       "0  6360dad9264a20f883771e33   Ankit   22    Pune     79   IT\n",
       "1  6360dad9264a20f883771e34   Vipul   25   Noida     83   HR\n",
       "2  6360dad9264a20f883771e35    Amit   24   Delhi     86   IT\n",
       "3  6360dad9264a20f883771e36  Nikhil   25   Delhi     65   OP\n",
       "4  6360dad9264a20f883771e37   Mudit   23  Mumbai     80  LOG"
      ]
     },
     "execution_count": 42,
     "metadata": {},
     "output_type": "execute_result"
    }
   ],
   "source": [
    "# dict\n",
    "# list of list, list of dict\n",
    "\n",
    "df = pd.DataFrame(col.find())\n",
    "df.head()"
   ]
  },
  {
   "cell_type": "code",
   "execution_count": 40,
   "id": "c060cbde",
   "metadata": {},
   "outputs": [
    {
     "data": {
      "text/plain": [
       "(14, 6)"
      ]
     },
     "execution_count": 40,
     "metadata": {},
     "output_type": "execute_result"
    }
   ],
   "source": [
    "df.shape"
   ]
  },
  {
   "cell_type": "code",
   "execution_count": 44,
   "id": "12b02f93",
   "metadata": {},
   "outputs": [
    {
     "name": "stdout",
     "output_type": "stream",
     "text": [
      "447\n",
      "['Age', 'City', 'Dept', 'Name', 'Score', 'T', '_AXIS_LEN', '_AXIS_ORDERS', '_AXIS_REVERSED', '_AXIS_TO_AXIS_NUMBER', '_HANDLED_TYPES', '__abs__', '__add__', '__and__', '__annotations__', '__array__', '__array_priority__', '__array_ufunc__', '__array_wrap__', '__bool__', '__class__', '__contains__', '__copy__', '__deepcopy__', '__delattr__', '__delitem__', '__dict__', '__dir__', '__divmod__', '__doc__', '__eq__', '__finalize__', '__floordiv__', '__format__', '__ge__', '__getattr__', '__getattribute__', '__getitem__', '__getstate__', '__gt__', '__hash__', '__iadd__', '__iand__', '__ifloordiv__', '__imod__', '__imul__', '__init__', '__init_subclass__', '__invert__', '__ior__', '__ipow__', '__isub__', '__iter__', '__itruediv__', '__ixor__', '__le__', '__len__', '__lt__', '__matmul__', '__mod__', '__module__', '__mul__', '__ne__', '__neg__', '__new__', '__nonzero__', '__or__', '__pos__', '__pow__', '__radd__', '__rand__', '__rdivmod__', '__reduce__', '__reduce_ex__', '__repr__', '__rfloordiv__', '__rmatmul__', '__rmod__', '__rmul__', '__ror__', '__round__', '__rpow__', '__rsub__', '__rtruediv__', '__rxor__', '__setattr__', '__setitem__', '__setstate__', '__sizeof__', '__str__', '__sub__', '__subclasshook__', '__truediv__', '__weakref__', '__xor__', '_accessors', '_accum_func', '_add_numeric_operations', '_agg_by_level', '_agg_examples_doc', '_agg_summary_and_see_also_doc', '_aggregate', '_align_frame', '_align_series', '_arith_method', '_attrs', '_box_col_values', '_builtin_table', '_can_fast_transpose', '_check_inplace_and_allows_duplicate_labels', '_check_inplace_setting', '_check_is_chained_assignment_possible', '_check_label_or_level_ambiguity', '_check_setitem_copy', '_clear_item_cache', '_clip_with_one_bound', '_clip_with_scalar', '_cmp_method', '_combine_frame', '_consolidate', '_consolidate_inplace', '_construct_axes_dict', '_construct_axes_from_arguments', '_construct_result', '_constructor', '_constructor_expanddim', '_constructor_sliced', '_convert', '_count_level', '_cython_table', '_data', '_dir_additions', '_dir_deletions', '_dispatch_frame_op', '_drop_axis', '_drop_labels_or_levels', '_ensure_valid_index', '_find_valid_index', '_flags', '_from_arrays', '_get_agg_axis', '_get_axis', '_get_axis_name', '_get_axis_number', '_get_axis_resolvers', '_get_block_manager_axis', '_get_bool_data', '_get_cacher', '_get_cleaned_column_resolvers', '_get_column_array', '_get_cython_func', '_get_index_resolvers', '_get_item_cache', '_get_label_or_level_values', '_get_numeric_data', '_get_value', '_getitem_bool_array', '_getitem_multilevel', '_gotitem', '_hidden_attrs', '_id', '_indexed_same', '_info_axis', '_info_axis_name', '_info_axis_number', '_info_repr', '_init_mgr', '_inplace_method', '_internal_names', '_internal_names_set', '_is_builtin_func', '_is_cached', '_is_copy', '_is_homogeneous_type', '_is_label_or_level_reference', '_is_label_reference', '_is_level_reference', '_is_mixed_type', '_is_view', '_iset_item', '_item_cache', '_iter_column_arrays', '_ix', '_ixs', '_join_compat', '_logical_func', '_logical_method', '_maybe_cache_changed', '_maybe_update_cacher', '_metadata', '_mgr', '_min_count_stat_function', '_needs_reindex_multi', '_obj_with_exclusions', '_protect_consolidate', '_reduce', '_reindex_axes', '_reindex_columns', '_reindex_index', '_reindex_multi', '_reindex_with_indexers', '_replace_columnwise', '_repr_data_resource_', '_repr_fits_horizontal_', '_repr_fits_vertical_', '_repr_html_', '_repr_latex_', '_reset_cache', '_reset_cacher', '_sanitize_column', '_selected_obj', '_selection', '_selection_list', '_selection_name', '_series', '_set_as_cached', '_set_axis', '_set_axis_name', '_set_axis_nocheck', '_set_is_copy', '_set_item', '_set_value', '_setitem_array', '_setitem_frame', '_setitem_slice', '_slice', '_stat_axis', '_stat_axis_name', '_stat_axis_number', '_stat_function', '_stat_function_ddof', '_take_with_is_copy', '_to_dict_of_blocks', '_try_aggregate_string_function', '_typ', '_update_inplace', '_validate_dtype', '_values', '_where', 'abs', 'add', 'add_prefix', 'add_suffix', 'agg', 'aggregate', 'align', 'all', 'any', 'append', 'apply', 'applymap', 'asfreq', 'asof', 'assign', 'astype', 'at', 'at_time', 'attrs', 'axes', 'backfill', 'between_time', 'bfill', 'bool', 'boxplot', 'clip', 'columns', 'combine', 'combine_first', 'compare', 'convert_dtypes', 'copy', 'corr', 'corrwith', 'count', 'cov', 'cummax', 'cummin', 'cumprod', 'cumsum', 'describe', 'diff', 'div', 'divide', 'dot', 'drop', 'drop_duplicates', 'droplevel', 'dropna', 'dtypes', 'duplicated', 'empty', 'eq', 'equals', 'eval', 'ewm', 'expanding', 'explode', 'ffill', 'fillna', 'filter', 'first', 'first_valid_index', 'flags', 'floordiv', 'from_dict', 'from_records', 'ge', 'get', 'groupby', 'gt', 'head', 'hist', 'iat', 'idxmax', 'idxmin', 'iloc', 'index', 'infer_objects', 'info', 'insert', 'interpolate', 'isin', 'isna', 'isnull', 'items', 'iteritems', 'iterrows', 'itertuples', 'join', 'keys', 'kurt', 'kurtosis', 'last', 'last_valid_index', 'le', 'loc', 'lookup', 'lt', 'mad', 'mask', 'max', 'mean', 'median', 'melt', 'memory_usage', 'merge', 'min', 'mod', 'mode', 'mul', 'multiply', 'ndim', 'ne', 'nlargest', 'notna', 'notnull', 'nsmallest', 'nunique', 'pad', 'pct_change', 'pipe', 'pivot', 'pivot_table', 'plot', 'pop', 'pow', 'prod', 'product', 'quantile', 'query', 'radd', 'rank', 'rdiv', 'reindex', 'reindex_like', 'rename', 'rename_axis', 'reorder_levels', 'replace', 'resample', 'reset_index', 'rfloordiv', 'rmod', 'rmul', 'rolling', 'round', 'rpow', 'rsub', 'rtruediv', 'sample', 'select_dtypes', 'sem', 'set_axis', 'set_flags', 'set_index', 'shape', 'shift', 'size', 'skew', 'slice_shift', 'sort_index', 'sort_values', 'squeeze', 'stack', 'std', 'style', 'sub', 'subtract', 'sum', 'swapaxes', 'swaplevel', 'tail', 'take', 'to_clipboard', 'to_csv', 'to_dict', 'to_excel', 'to_feather', 'to_gbq', 'to_hdf', 'to_html', 'to_json', 'to_latex', 'to_markdown', 'to_numpy', 'to_parquet', 'to_period', 'to_pickle', 'to_records', 'to_sql', 'to_stata', 'to_string', 'to_timestamp', 'to_xarray', 'transform', 'transpose', 'truediv', 'truncate', 'tz_convert', 'tz_localize', 'unstack', 'update', 'value_counts', 'values', 'var', 'where', 'xs']\n"
     ]
    }
   ],
   "source": [
    "print(len(dir(df)))\n",
    "print(dir(df))"
   ]
  },
  {
   "cell_type": "markdown",
   "id": "87f0ed76",
   "metadata": {},
   "source": [
    "#### Delete one Record"
   ]
  },
  {
   "cell_type": "code",
   "execution_count": 45,
   "id": "f4d5ae4b",
   "metadata": {},
   "outputs": [
    {
     "data": {
      "text/html": [
       "<div>\n",
       "<style scoped>\n",
       "    .dataframe tbody tr th:only-of-type {\n",
       "        vertical-align: middle;\n",
       "    }\n",
       "\n",
       "    .dataframe tbody tr th {\n",
       "        vertical-align: top;\n",
       "    }\n",
       "\n",
       "    .dataframe thead th {\n",
       "        text-align: right;\n",
       "    }\n",
       "</style>\n",
       "<table border=\"1\" class=\"dataframe\">\n",
       "  <thead>\n",
       "    <tr style=\"text-align: right;\">\n",
       "      <th></th>\n",
       "      <th>Name</th>\n",
       "      <th>Age</th>\n",
       "      <th>City</th>\n",
       "      <th>Score</th>\n",
       "      <th>Dept</th>\n",
       "    </tr>\n",
       "  </thead>\n",
       "  <tbody>\n",
       "    <tr>\n",
       "      <th>0</th>\n",
       "      <td>Ankit</td>\n",
       "      <td>22</td>\n",
       "      <td>Pune</td>\n",
       "      <td>79</td>\n",
       "      <td>IT</td>\n",
       "    </tr>\n",
       "    <tr>\n",
       "      <th>1</th>\n",
       "      <td>Vipul</td>\n",
       "      <td>25</td>\n",
       "      <td>Noida</td>\n",
       "      <td>83</td>\n",
       "      <td>HR</td>\n",
       "    </tr>\n",
       "    <tr>\n",
       "      <th>2</th>\n",
       "      <td>Amit</td>\n",
       "      <td>24</td>\n",
       "      <td>Delhi</td>\n",
       "      <td>86</td>\n",
       "      <td>IT</td>\n",
       "    </tr>\n",
       "    <tr>\n",
       "      <th>3</th>\n",
       "      <td>Nikhil</td>\n",
       "      <td>25</td>\n",
       "      <td>Delhi</td>\n",
       "      <td>65</td>\n",
       "      <td>OP</td>\n",
       "    </tr>\n",
       "    <tr>\n",
       "      <th>4</th>\n",
       "      <td>Mudit</td>\n",
       "      <td>23</td>\n",
       "      <td>Mumbai</td>\n",
       "      <td>80</td>\n",
       "      <td>LOG</td>\n",
       "    </tr>\n",
       "    <tr>\n",
       "      <th>5</th>\n",
       "      <td>Arpita</td>\n",
       "      <td>24</td>\n",
       "      <td>Pune</td>\n",
       "      <td>91</td>\n",
       "      <td>INV</td>\n",
       "    </tr>\n",
       "    <tr>\n",
       "      <th>6</th>\n",
       "      <td>Akanksha</td>\n",
       "      <td>25</td>\n",
       "      <td>Noida</td>\n",
       "      <td>70</td>\n",
       "      <td>LOG</td>\n",
       "    </tr>\n",
       "    <tr>\n",
       "      <th>7</th>\n",
       "      <td>Anuj</td>\n",
       "      <td>22</td>\n",
       "      <td>Mumbai</td>\n",
       "      <td>68</td>\n",
       "      <td>IT</td>\n",
       "    </tr>\n",
       "    <tr>\n",
       "      <th>8</th>\n",
       "      <td>Shreya</td>\n",
       "      <td>24</td>\n",
       "      <td>Bangalore</td>\n",
       "      <td>94</td>\n",
       "      <td>IT</td>\n",
       "    </tr>\n",
       "    <tr>\n",
       "      <th>9</th>\n",
       "      <td>Rishabh</td>\n",
       "      <td>25</td>\n",
       "      <td>Bangalore</td>\n",
       "      <td>88</td>\n",
       "      <td>INV</td>\n",
       "    </tr>\n",
       "    <tr>\n",
       "      <th>10</th>\n",
       "      <td>Anshul</td>\n",
       "      <td>23</td>\n",
       "      <td>Noida</td>\n",
       "      <td>92</td>\n",
       "      <td>IT</td>\n",
       "    </tr>\n",
       "    <tr>\n",
       "      <th>11</th>\n",
       "      <td>Jatin</td>\n",
       "      <td>22</td>\n",
       "      <td>Delhi</td>\n",
       "      <td>75</td>\n",
       "      <td>INV</td>\n",
       "    </tr>\n",
       "    <tr>\n",
       "      <th>12</th>\n",
       "      <td>Kritika</td>\n",
       "      <td>24</td>\n",
       "      <td>Pune</td>\n",
       "      <td>87</td>\n",
       "      <td>HR</td>\n",
       "    </tr>\n",
       "    <tr>\n",
       "      <th>13</th>\n",
       "      <td>Akash</td>\n",
       "      <td>26</td>\n",
       "      <td>Mumbai</td>\n",
       "      <td>56</td>\n",
       "      <td>LOG</td>\n",
       "    </tr>\n",
       "  </tbody>\n",
       "</table>\n",
       "</div>"
      ],
      "text/plain": [
       "        Name  Age       City  Score Dept\n",
       "0      Ankit   22       Pune     79   IT\n",
       "1      Vipul   25      Noida     83   HR\n",
       "2       Amit   24      Delhi     86   IT\n",
       "3     Nikhil   25      Delhi     65   OP\n",
       "4      Mudit   23     Mumbai     80  LOG\n",
       "5     Arpita   24       Pune     91  INV\n",
       "6   Akanksha   25      Noida     70  LOG\n",
       "7       Anuj   22     Mumbai     68   IT\n",
       "8     Shreya   24  Bangalore     94   IT\n",
       "9    Rishabh   25  Bangalore     88  INV\n",
       "10    Anshul   23      Noida     92   IT\n",
       "11     Jatin   22      Delhi     75  INV\n",
       "12   Kritika   24       Pune     87   HR\n",
       "13     Akash   26     Mumbai     56  LOG"
      ]
     },
     "execution_count": 45,
     "metadata": {},
     "output_type": "execute_result"
    }
   ],
   "source": [
    "df.iloc[:,1:]"
   ]
  },
  {
   "cell_type": "code",
   "execution_count": 46,
   "id": "87df5d5f",
   "metadata": {},
   "outputs": [
    {
     "name": "stdout",
     "output_type": "stream",
     "text": [
      "{'_id': ObjectId('6360dad9264a20f883771e33'), 'Name': 'Ankit', 'Age': 22, 'City': 'Pune', 'Score': 79, 'Dept': 'IT'}\n",
      "{'_id': ObjectId('6360dad9264a20f883771e35'), 'Name': 'Amit', 'Age': 24, 'City': 'Delhi', 'Score': 86, 'Dept': 'IT'}\n",
      "{'_id': ObjectId('6360dad9264a20f883771e36'), 'Name': 'Nikhil', 'Age': 25, 'City': 'Delhi', 'Score': 65, 'Dept': 'OP'}\n",
      "{'_id': ObjectId('6360dad9264a20f883771e37'), 'Name': 'Mudit', 'Age': 23, 'City': 'Mumbai', 'Score': 80, 'Dept': 'LOG'}\n",
      "{'_id': ObjectId('6360dad9264a20f883771e38'), 'Name': 'Arpita', 'Age': 24, 'City': 'Pune', 'Score': 91, 'Dept': 'INV'}\n",
      "{'_id': ObjectId('6360dad9264a20f883771e39'), 'Name': 'Akanksha', 'Age': 25, 'City': 'Noida', 'Score': 70, 'Dept': 'LOG'}\n",
      "{'_id': ObjectId('6360dad9264a20f883771e3a'), 'Name': 'Anuj', 'Age': 22, 'City': 'Mumbai', 'Score': 68, 'Dept': 'IT'}\n",
      "{'_id': ObjectId('6360dad9264a20f883771e3b'), 'Name': 'Shreya', 'Age': 24, 'City': 'Bangalore', 'Score': 94, 'Dept': 'IT'}\n",
      "{'_id': ObjectId('6360dad9264a20f883771e3c'), 'Name': 'Rishabh', 'Age': 25, 'City': 'Bangalore', 'Score': 88, 'Dept': 'INV'}\n",
      "{'_id': ObjectId('6360df13c570d4ceb9bd88e3'), 'Name': 'Anshul', 'Age': 23, 'City': 'Noida', 'Score': 92, 'Dept': 'IT'}\n",
      "{'_id': ObjectId('6360e01dc570d4ceb9bd88e4'), 'Name': 'Jatin', 'Age': 22, 'City': 'Delhi', 'Score': 75, 'Dept': 'INV'}\n",
      "{'_id': ObjectId('6360e01dc570d4ceb9bd88e5'), 'Name': 'Kritika', 'Age': 24, 'City': 'Pune', 'Score': 87, 'Dept': 'HR'}\n",
      "{'_id': ObjectId('6360e01dc570d4ceb9bd88e6'), 'Name': 'Akash', 'Age': 26, 'City': 'Mumbai', 'Score': 56, 'Dept': 'LOG'}\n"
     ]
    }
   ],
   "source": [
    "# Deletes the first record\n",
    "dq1 = {'City':'Noida'}\n",
    "col.delete_one(dq1)\n",
    "\n",
    "for i in col.find():\n",
    "    print(i)"
   ]
  },
  {
   "cell_type": "code",
   "execution_count": 47,
   "id": "927d3a07",
   "metadata": {},
   "outputs": [
    {
     "data": {
      "text/html": [
       "<div>\n",
       "<style scoped>\n",
       "    .dataframe tbody tr th:only-of-type {\n",
       "        vertical-align: middle;\n",
       "    }\n",
       "\n",
       "    .dataframe tbody tr th {\n",
       "        vertical-align: top;\n",
       "    }\n",
       "\n",
       "    .dataframe thead th {\n",
       "        text-align: right;\n",
       "    }\n",
       "</style>\n",
       "<table border=\"1\" class=\"dataframe\">\n",
       "  <thead>\n",
       "    <tr style=\"text-align: right;\">\n",
       "      <th></th>\n",
       "      <th>Name</th>\n",
       "      <th>Age</th>\n",
       "      <th>City</th>\n",
       "      <th>Score</th>\n",
       "      <th>Dept</th>\n",
       "    </tr>\n",
       "  </thead>\n",
       "  <tbody>\n",
       "    <tr>\n",
       "      <th>0</th>\n",
       "      <td>Ankit</td>\n",
       "      <td>22</td>\n",
       "      <td>Pune</td>\n",
       "      <td>79</td>\n",
       "      <td>IT</td>\n",
       "    </tr>\n",
       "    <tr>\n",
       "      <th>1</th>\n",
       "      <td>Vipul</td>\n",
       "      <td>25</td>\n",
       "      <td>Noida</td>\n",
       "      <td>83</td>\n",
       "      <td>HR</td>\n",
       "    </tr>\n",
       "    <tr>\n",
       "      <th>2</th>\n",
       "      <td>Amit</td>\n",
       "      <td>24</td>\n",
       "      <td>Delhi</td>\n",
       "      <td>86</td>\n",
       "      <td>IT</td>\n",
       "    </tr>\n",
       "    <tr>\n",
       "      <th>3</th>\n",
       "      <td>Nikhil</td>\n",
       "      <td>25</td>\n",
       "      <td>Delhi</td>\n",
       "      <td>65</td>\n",
       "      <td>OP</td>\n",
       "    </tr>\n",
       "    <tr>\n",
       "      <th>4</th>\n",
       "      <td>Mudit</td>\n",
       "      <td>23</td>\n",
       "      <td>Mumbai</td>\n",
       "      <td>80</td>\n",
       "      <td>LOG</td>\n",
       "    </tr>\n",
       "    <tr>\n",
       "      <th>5</th>\n",
       "      <td>Arpita</td>\n",
       "      <td>24</td>\n",
       "      <td>Pune</td>\n",
       "      <td>91</td>\n",
       "      <td>INV</td>\n",
       "    </tr>\n",
       "    <tr>\n",
       "      <th>6</th>\n",
       "      <td>Akanksha</td>\n",
       "      <td>25</td>\n",
       "      <td>Noida</td>\n",
       "      <td>70</td>\n",
       "      <td>LOG</td>\n",
       "    </tr>\n",
       "    <tr>\n",
       "      <th>7</th>\n",
       "      <td>Anuj</td>\n",
       "      <td>22</td>\n",
       "      <td>Mumbai</td>\n",
       "      <td>68</td>\n",
       "      <td>IT</td>\n",
       "    </tr>\n",
       "    <tr>\n",
       "      <th>8</th>\n",
       "      <td>Shreya</td>\n",
       "      <td>24</td>\n",
       "      <td>Bangalore</td>\n",
       "      <td>94</td>\n",
       "      <td>IT</td>\n",
       "    </tr>\n",
       "    <tr>\n",
       "      <th>9</th>\n",
       "      <td>Rishabh</td>\n",
       "      <td>25</td>\n",
       "      <td>Bangalore</td>\n",
       "      <td>88</td>\n",
       "      <td>INV</td>\n",
       "    </tr>\n",
       "    <tr>\n",
       "      <th>10</th>\n",
       "      <td>Anshul</td>\n",
       "      <td>23</td>\n",
       "      <td>Noida</td>\n",
       "      <td>92</td>\n",
       "      <td>IT</td>\n",
       "    </tr>\n",
       "    <tr>\n",
       "      <th>11</th>\n",
       "      <td>Jatin</td>\n",
       "      <td>22</td>\n",
       "      <td>Delhi</td>\n",
       "      <td>75</td>\n",
       "      <td>INV</td>\n",
       "    </tr>\n",
       "    <tr>\n",
       "      <th>12</th>\n",
       "      <td>Kritika</td>\n",
       "      <td>24</td>\n",
       "      <td>Pune</td>\n",
       "      <td>87</td>\n",
       "      <td>HR</td>\n",
       "    </tr>\n",
       "    <tr>\n",
       "      <th>13</th>\n",
       "      <td>Akash</td>\n",
       "      <td>26</td>\n",
       "      <td>Mumbai</td>\n",
       "      <td>56</td>\n",
       "      <td>LOG</td>\n",
       "    </tr>\n",
       "  </tbody>\n",
       "</table>\n",
       "</div>"
      ],
      "text/plain": [
       "        Name  Age       City  Score Dept\n",
       "0      Ankit   22       Pune     79   IT\n",
       "1      Vipul   25      Noida     83   HR\n",
       "2       Amit   24      Delhi     86   IT\n",
       "3     Nikhil   25      Delhi     65   OP\n",
       "4      Mudit   23     Mumbai     80  LOG\n",
       "5     Arpita   24       Pune     91  INV\n",
       "6   Akanksha   25      Noida     70  LOG\n",
       "7       Anuj   22     Mumbai     68   IT\n",
       "8     Shreya   24  Bangalore     94   IT\n",
       "9    Rishabh   25  Bangalore     88  INV\n",
       "10    Anshul   23      Noida     92   IT\n",
       "11     Jatin   22      Delhi     75  INV\n",
       "12   Kritika   24       Pune     87   HR\n",
       "13     Akash   26     Mumbai     56  LOG"
      ]
     },
     "execution_count": 47,
     "metadata": {},
     "output_type": "execute_result"
    }
   ],
   "source": [
    "df.iloc[:,1:]"
   ]
  },
  {
   "cell_type": "markdown",
   "id": "a301dc32",
   "metadata": {},
   "source": [
    "#### Delete Multiple record "
   ]
  },
  {
   "cell_type": "code",
   "execution_count": 48,
   "id": "fc8cd3c2",
   "metadata": {},
   "outputs": [
    {
     "name": "stdout",
     "output_type": "stream",
     "text": [
      "{'_id': ObjectId('6360dad9264a20f883771e33'), 'Name': 'Ankit', 'Age': 22, 'City': 'Pune', 'Score': 79, 'Dept': 'IT'}\n",
      "{'_id': ObjectId('6360dad9264a20f883771e35'), 'Name': 'Amit', 'Age': 24, 'City': 'Delhi', 'Score': 86, 'Dept': 'IT'}\n",
      "{'_id': ObjectId('6360dad9264a20f883771e36'), 'Name': 'Nikhil', 'Age': 25, 'City': 'Delhi', 'Score': 65, 'Dept': 'OP'}\n",
      "{'_id': ObjectId('6360dad9264a20f883771e37'), 'Name': 'Mudit', 'Age': 23, 'City': 'Mumbai', 'Score': 80, 'Dept': 'LOG'}\n",
      "{'_id': ObjectId('6360dad9264a20f883771e38'), 'Name': 'Arpita', 'Age': 24, 'City': 'Pune', 'Score': 91, 'Dept': 'INV'}\n",
      "{'_id': ObjectId('6360dad9264a20f883771e39'), 'Name': 'Akanksha', 'Age': 25, 'City': 'Noida', 'Score': 70, 'Dept': 'LOG'}\n",
      "{'_id': ObjectId('6360dad9264a20f883771e3a'), 'Name': 'Anuj', 'Age': 22, 'City': 'Mumbai', 'Score': 68, 'Dept': 'IT'}\n",
      "{'_id': ObjectId('6360dad9264a20f883771e3c'), 'Name': 'Rishabh', 'Age': 25, 'City': 'Bangalore', 'Score': 88, 'Dept': 'INV'}\n",
      "{'_id': ObjectId('6360e01dc570d4ceb9bd88e4'), 'Name': 'Jatin', 'Age': 22, 'City': 'Delhi', 'Score': 75, 'Dept': 'INV'}\n",
      "{'_id': ObjectId('6360e01dc570d4ceb9bd88e5'), 'Name': 'Kritika', 'Age': 24, 'City': 'Pune', 'Score': 87, 'Dept': 'HR'}\n",
      "{'_id': ObjectId('6360e01dc570d4ceb9bd88e6'), 'Name': 'Akash', 'Age': 26, 'City': 'Mumbai', 'Score': 56, 'Dept': 'LOG'}\n"
     ]
    }
   ],
   "source": [
    "dq2 = {'Score':{'$gte':92}}\n",
    "col.delete_many(dq2)\n",
    "\n",
    "for i in col.find():\n",
    "    print(i)"
   ]
  },
  {
   "cell_type": "markdown",
   "id": "a4636b4b",
   "metadata": {},
   "source": [
    "#### Update One"
   ]
  },
  {
   "cell_type": "code",
   "execution_count": 49,
   "id": "d8aa1ea8",
   "metadata": {},
   "outputs": [
    {
     "name": "stdout",
     "output_type": "stream",
     "text": [
      "{'_id': ObjectId('6360dad9264a20f883771e33'), 'Name': 'Ankit', 'Age': 22, 'City': 'Pune', 'Score': 79, 'Dept': 'IT'}\n",
      "{'_id': ObjectId('6360dad9264a20f883771e35'), 'Name': 'Amit', 'Age': 24, 'City': 'Delhi', 'Score': 86, 'Dept': 'IT'}\n",
      "{'_id': ObjectId('6360dad9264a20f883771e36'), 'Name': 'Nikhil', 'Age': 25, 'City': 'Delhi', 'Score': 65, 'Dept': 'OP'}\n",
      "{'_id': ObjectId('6360dad9264a20f883771e37'), 'Name': 'Mudit', 'Age': 23, 'City': 'Mumbai', 'Score': 80, 'Dept': 'LOG'}\n",
      "{'_id': ObjectId('6360dad9264a20f883771e38'), 'Name': 'Arpita', 'Age': 24, 'City': 'Pune', 'Score': 91, 'Dept': 'INV'}\n",
      "{'_id': ObjectId('6360dad9264a20f883771e39'), 'Name': 'Akanksha', 'Age': 25, 'City': 'Noida', 'Score': 70, 'Dept': 'LOG'}\n",
      "{'_id': ObjectId('6360dad9264a20f883771e3a'), 'Name': 'Anuj', 'Age': 27, 'City': 'Mumbai', 'Score': 68, 'Dept': 'Admin'}\n",
      "{'_id': ObjectId('6360dad9264a20f883771e3c'), 'Name': 'Rishabh', 'Age': 25, 'City': 'Bangalore', 'Score': 88, 'Dept': 'INV'}\n",
      "{'_id': ObjectId('6360e01dc570d4ceb9bd88e4'), 'Name': 'Jatin', 'Age': 22, 'City': 'Delhi', 'Score': 75, 'Dept': 'INV'}\n",
      "{'_id': ObjectId('6360e01dc570d4ceb9bd88e5'), 'Name': 'Kritika', 'Age': 24, 'City': 'Pune', 'Score': 87, 'Dept': 'HR'}\n",
      "{'_id': ObjectId('6360e01dc570d4ceb9bd88e6'), 'Name': 'Akash', 'Age': 26, 'City': 'Mumbai', 'Score': 56, 'Dept': 'LOG'}\n"
     ]
    }
   ],
   "source": [
    "old = { \"Name\": \"Anuj\" }\n",
    "new = { \"$set\": { \"Dept\": \"Admin\", \"Age\" : 27 }}\n",
    "\n",
    "col.update_one(old, new)\n",
    "\n",
    "for x in col.find():\n",
    "    print(x) "
   ]
  },
  {
   "cell_type": "markdown",
   "id": "93a2f60d",
   "metadata": {},
   "source": [
    "#### Update Many"
   ]
  },
  {
   "cell_type": "code",
   "execution_count": 51,
   "id": "97f85a21",
   "metadata": {},
   "outputs": [
    {
     "name": "stdout",
     "output_type": "stream",
     "text": [
      "{'_id': ObjectId('6360dad9264a20f883771e33'), 'Name': 'Ankit', 'Age': 22, 'City': 'Pune', 'Score': 79, 'Dept': 'IT'}\n",
      "{'_id': ObjectId('6360dad9264a20f883771e35'), 'Name': 'Amit', 'Age': 24, 'City': 'Delhi', 'Score': 86, 'Dept': 'IT'}\n",
      "{'_id': ObjectId('6360dad9264a20f883771e36'), 'Name': 'Nikhil', 'Age': 25, 'City': 'Delhi', 'Score': 65, 'Dept': 'OP'}\n",
      "{'_id': ObjectId('6360dad9264a20f883771e37'), 'Name': 'Mudit', 'Age': 25, 'City': 'Mumbai', 'Score': 80, 'Dept': 'LOG'}\n",
      "{'_id': ObjectId('6360dad9264a20f883771e38'), 'Name': 'Arpita', 'Age': 24, 'City': 'Pune', 'Score': 91, 'Dept': 'INV'}\n",
      "{'_id': ObjectId('6360dad9264a20f883771e39'), 'Name': 'Akanksha', 'Age': 25, 'City': 'Noida', 'Score': 70, 'Dept': 'LOG'}\n",
      "{'_id': ObjectId('6360dad9264a20f883771e3a'), 'Name': 'Anuj', 'Age': 25, 'City': 'Mumbai', 'Score': 68, 'Dept': 'Admin'}\n",
      "{'_id': ObjectId('6360dad9264a20f883771e3c'), 'Name': 'Rishabh', 'Age': 25, 'City': 'Bangalore', 'Score': 88, 'Dept': 'INV'}\n",
      "{'_id': ObjectId('6360e01dc570d4ceb9bd88e4'), 'Name': 'Jatin', 'Age': 22, 'City': 'Delhi', 'Score': 75, 'Dept': 'INV'}\n",
      "{'_id': ObjectId('6360e01dc570d4ceb9bd88e5'), 'Name': 'Kritika', 'Age': 24, 'City': 'Pune', 'Score': 87, 'Dept': 'HR'}\n",
      "{'_id': ObjectId('6360e01dc570d4ceb9bd88e6'), 'Name': 'Akash', 'Age': 25, 'City': 'Mumbai', 'Score': 56, 'Dept': 'LOG'}\n"
     ]
    }
   ],
   "source": [
    "old = { \"City\":  'Mumbai' }\n",
    "new = { \"$set\": { \"Age\": 25 } }\n",
    "\n",
    "col.update_many(old, new)\n",
    "\n",
    "for i in col.find():\n",
    "    print(i)"
   ]
  },
  {
   "cell_type": "code",
   "execution_count": null,
   "id": "fffc5c59",
   "metadata": {},
   "outputs": [],
   "source": []
  }
 ],
 "metadata": {
  "kernelspec": {
   "display_name": "Python 3",
   "language": "python",
   "name": "python3"
  },
  "language_info": {
   "codemirror_mode": {
    "name": "ipython",
    "version": 3
   },
   "file_extension": ".py",
   "mimetype": "text/x-python",
   "name": "python",
   "nbconvert_exporter": "python",
   "pygments_lexer": "ipython3",
   "version": "3.8.8"
  }
 },
 "nbformat": 4,
 "nbformat_minor": 5
}
